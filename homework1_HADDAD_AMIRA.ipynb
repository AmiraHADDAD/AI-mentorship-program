{
 "cells": [
  {
   "cell_type": "markdown",
   "id": "bddc6fc4",
   "metadata": {},
   "source": [
    "## Question 1"
   ]
  },
  {
   "cell_type": "code",
   "execution_count": 1,
   "id": "15f0a049",
   "metadata": {},
   "outputs": [
    {
     "name": "stdout",
     "output_type": "stream",
     "text": [
      "2.0.3\n"
     ]
    }
   ],
   "source": [
    "import pandas as pd\n",
    "print(pd.__version__)"
   ]
  },
  {
   "cell_type": "markdown",
   "id": "faf65a71",
   "metadata": {},
   "source": [
    "## Question 2"
   ]
  },
  {
   "cell_type": "code",
   "execution_count": 3,
   "id": "e10a78cc",
   "metadata": {},
   "outputs": [
    {
     "name": "stdout",
     "output_type": "stream",
     "text": [
      "10\n"
     ]
    }
   ],
   "source": [
    "import pandas as pd\n",
    "df = pd.read_csv(\"my_csv_file.csv\")\n",
    "num_columns = df.shape[1]\n",
    "print (num_columns)"
   ]
  },
  {
   "cell_type": "markdown",
   "id": "8b33ede0",
   "metadata": {},
   "source": [
    "## Question 3"
   ]
  },
  {
   "cell_type": "code",
   "execution_count": 5,
   "id": "e0a4aaf0",
   "metadata": {},
   "outputs": [
    {
     "name": "stdout",
     "output_type": "stream",
     "text": [
      "Index(['total_bedrooms'], dtype='object')\n"
     ]
    }
   ],
   "source": [
    "import pandas as pd\n",
    "\n",
    "# Read the CSV file into a Pandas DataFrame\n",
    "df = pd.read_csv(\"my_csv_file.csv\")\n",
    "\n",
    "# Find the columns in the DataFrame that have missing values\n",
    "columns_with_missing_values = df.columns[df.isnull().any()]\n",
    "\n",
    "# Print the columns with missing values\n",
    "print(columns_with_missing_values)"
   ]
  },
  {
   "cell_type": "markdown",
   "id": "cc864b5a",
   "metadata": {},
   "source": [
    "## Question 4"
   ]
  },
  {
   "cell_type": "code",
   "execution_count": 6,
   "id": "a60299b6",
   "metadata": {},
   "outputs": [
    {
     "name": "stdout",
     "output_type": "stream",
     "text": [
      "5\n"
     ]
    }
   ],
   "source": [
    "import pandas as pd\n",
    "\n",
    "# Read the CSV file into a Pandas DataFrame\n",
    "df = pd.read_csv(\"my_csv_file.csv\")\n",
    "\n",
    "# Count the number of unique values in the `ocean_proximity` column\n",
    "num_unique_values = df[\"ocean_proximity\"].nunique()\n",
    "\n",
    "# Print the number of unique values\n",
    "print(num_unique_values)"
   ]
  },
  {
   "cell_type": "markdown",
   "id": "d55c27d8",
   "metadata": {},
   "source": [
    "## Question 5"
   ]
  },
  {
   "cell_type": "code",
   "execution_count": 7,
   "id": "e35fa2d6",
   "metadata": {},
   "outputs": [
    {
     "name": "stdout",
     "output_type": "stream",
     "text": [
      "259212.31179039303\n"
     ]
    }
   ],
   "source": [
    "import pandas as pd\n",
    "\n",
    "# Read the CSV file into a Pandas DataFrame\n",
    "df = pd.read_csv(\"my_csv_file.csv\")\n",
    "\n",
    "# Filter the DataFrame to only include the houses located near the bay\n",
    "houses_near_bay = df[df[\"ocean_proximity\"] == \"NEAR BAY\"]\n",
    "\n",
    "# Calculate the average value of the `median_house_value` column\n",
    "average_median_house_value = houses_near_bay[\"median_house_value\"].mean()\n",
    "\n",
    "# Print the average median house value\n",
    "print(average_median_house_value)"
   ]
  },
  {
   "cell_type": "markdown",
   "id": "2d9f3109",
   "metadata": {},
   "source": [
    "## Question 6"
   ]
  },
  {
   "cell_type": "code",
   "execution_count": 12,
   "id": "80fb9430",
   "metadata": {},
   "outputs": [
    {
     "name": "stdout",
     "output_type": "stream",
     "text": [
      "average_total_bedrooms : \n",
      "537.871\n",
      "average_total_bedrooms_after_filling_missing_values : \n",
      "537.871\n"
     ]
    }
   ],
   "source": [
    "import pandas as pd\n",
    "\n",
    "# Read the CSV file into a Pandas DataFrame\n",
    "df = pd.read_csv(\"my_csv_file.csv\")\n",
    "\n",
    "# Calculate the average of the `total_bedrooms` column\n",
    "average_total_bedrooms = df[\"total_bedrooms\"].mean()\n",
    "\n",
    "# Print the average total bedrooms\n",
    "print(\"average_total_bedrooms : \")\n",
    "print(round(average_total_bedrooms, 3))\n",
    "# Calculate the average of the `total_bedrooms` column\n",
    "average_total_bedrooms_after_filling_missing_values = df[\"total_bedrooms\"].mean()\n",
    "\n",
    "# Print the average total bedrooms after filling missing values\n",
    "print(\"average_total_bedrooms_after_filling_missing_values : \")\n",
    "print(round(average_total_bedrooms_after_filling_missing_values, 3))"
   ]
  },
  {
   "cell_type": "raw",
   "id": "9992bf1d",
   "metadata": {},
   "source": [
    "No, the average has not changed,but I think there was a change but only by a very small amount."
   ]
  },
  {
   "cell_type": "markdown",
   "id": "d020e9ba",
   "metadata": {},
   "source": [
    "## Question 7"
   ]
  },
  {
   "cell_type": "raw",
   "id": "b5ebbd35",
   "metadata": {},
   "source": [
    " 1 didn't understand it\n",
    " I didn't understand the hol question "
   ]
  },
  {
   "cell_type": "code",
   "execution_count": null,
   "id": "02517e9f",
   "metadata": {},
   "outputs": [],
   "source": []
  }
 ],
 "metadata": {
  "kernelspec": {
   "display_name": "Python 3 (ipykernel)",
   "language": "python",
   "name": "python3"
  },
  "language_info": {
   "codemirror_mode": {
    "name": "ipython",
    "version": 3
   },
   "file_extension": ".py",
   "mimetype": "text/x-python",
   "name": "python",
   "nbconvert_exporter": "python",
   "pygments_lexer": "ipython3",
   "version": "3.11.5"
  }
 },
 "nbformat": 4,
 "nbformat_minor": 5
}
